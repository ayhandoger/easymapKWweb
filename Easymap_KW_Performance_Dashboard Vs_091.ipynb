{
 "cells": [
  {
   "cell_type": "code",
   "execution_count": 13,
   "id": "02991093",
   "metadata": {},
   "outputs": [
    {
     "name": "stdout",
     "output_type": "stream",
     "text": [
      "Welcome to the \u001b[1mKW-Optimization DashboardVs. 0.8\n",
      "\u001b[1mFilter year, limits and status:\n"
     ]
    },
    {
     "data": {
      "application/vnd.jupyter.widget-view+json": {
       "model_id": "7d7c4d36d41f45d2b64d81ce28457b82",
       "version_major": 2,
       "version_minor": 0
      },
      "text/plain": [
       "VBox(children=(HBox(children=(Dropdown(description='Year:', index=7, options=(0, 2015, 2016, 2017, 2018, 2019,…"
      ]
     },
     "metadata": {},
     "output_type": "display_data"
    },
    {
     "name": "stdout",
     "output_type": "stream",
     "text": [
      "\u001b[1mFilter Keyword, MaxCPC and Conversion:\n"
     ]
    },
    {
     "data": {
      "application/vnd.jupyter.widget-view+json": {
       "model_id": "29ca6b173ba74be38270ec7efe1fe914",
       "version_major": 2,
       "version_minor": 0
      },
      "text/plain": [
       "VBox(children=(HBox(children=(Dropdown(description='MaxCPC:', options=(0, ' --', '0,15', '0,15 (auto-optimiert…"
      ]
     },
     "metadata": {},
     "output_type": "display_data"
    },
    {
     "name": "stdout",
     "output_type": "stream",
     "text": [
      "\u001b[1mFilter Campaign, CTR and Costs:\n"
     ]
    },
    {
     "data": {
      "application/vnd.jupyter.widget-view+json": {
       "model_id": "6d0d3d4500664df59147a4acb2a2b7db",
       "version_major": 2,
       "version_minor": 0
      },
      "text/plain": [
       "VBox(children=(HBox(children=(Dropdown(description='Impressions:', options=(0, 0, 1, 2, 3, 5, 6, 7, 8, 10, 14,…"
      ]
     },
     "metadata": {},
     "output_type": "display_data"
    },
    {
     "data": {
      "application/vnd.jupyter.widget-view+json": {
       "model_id": "5293c142154a42c69bc056765c78ca4c",
       "version_major": 2,
       "version_minor": 0
      },
      "text/plain": [
       "Button(description='ScatterView', style=ButtonStyle())"
      ]
     },
     "metadata": {},
     "output_type": "display_data"
    },
    {
     "data": {
      "application/vnd.jupyter.widget-view+json": {
       "model_id": "24e84a0a04114ff3b9e33634c1b953a3",
       "version_major": 2,
       "version_minor": 0
      },
      "text/plain": [
       "Output()"
      ]
     },
     "metadata": {},
     "output_type": "display_data"
    },
    {
     "data": {
      "application/vnd.jupyter.widget-view+json": {
       "model_id": "d81e5974242344fa908082a3825a1a2e",
       "version_major": 2,
       "version_minor": 0
      },
      "text/plain": [
       "Button(description='PairPlot', style=ButtonStyle())"
      ]
     },
     "metadata": {},
     "output_type": "display_data"
    },
    {
     "data": {
      "application/vnd.jupyter.widget-view+json": {
       "model_id": "30757d1e16624396aaa365d09cff13bb",
       "version_major": 2,
       "version_minor": 0
      },
      "text/plain": [
       "Output()"
      ]
     },
     "metadata": {},
     "output_type": "display_data"
    },
    {
     "data": {
      "application/vnd.jupyter.widget-view+json": {
       "model_id": "eefdc22f5d084a528202ca6107d1da25",
       "version_major": 2,
       "version_minor": 0
      },
      "text/plain": [
       "Button(description='ViolinPlot1', style=ButtonStyle())"
      ]
     },
     "metadata": {},
     "output_type": "display_data"
    },
    {
     "data": {
      "application/vnd.jupyter.widget-view+json": {
       "model_id": "23ab0bbf77984fd5865ad31263b9bab2",
       "version_major": 2,
       "version_minor": 0
      },
      "text/plain": [
       "Output()"
      ]
     },
     "metadata": {},
     "output_type": "display_data"
    },
    {
     "data": {
      "application/vnd.jupyter.widget-view+json": {
       "model_id": "a98f72e188564508a4b0f59001d2a6b2",
       "version_major": 2,
       "version_minor": 0
      },
      "text/plain": [
       "Button(description='ViolinPlot2', style=ButtonStyle())"
      ]
     },
     "metadata": {},
     "output_type": "display_data"
    },
    {
     "data": {
      "application/vnd.jupyter.widget-view+json": {
       "model_id": "e54d26f06854417fac2dfcb957dc4202",
       "version_major": 2,
       "version_minor": 0
      },
      "text/plain": [
       "Output()"
      ]
     },
     "metadata": {},
     "output_type": "display_data"
    },
    {
     "data": {
      "application/vnd.jupyter.widget-view+json": {
       "model_id": "f385ff3e633f4b88ac27ac4659f4e392",
       "version_major": 2,
       "version_minor": 0
      },
      "text/plain": [
       "Button(description='ViolinPlot3', style=ButtonStyle())"
      ]
     },
     "metadata": {},
     "output_type": "display_data"
    },
    {
     "data": {
      "application/vnd.jupyter.widget-view+json": {
       "model_id": "f107c5e97f1042578a852f91aec7d874",
       "version_major": 2,
       "version_minor": 0
      },
      "text/plain": [
       "Output()"
      ]
     },
     "metadata": {},
     "output_type": "display_data"
    },
    {
     "data": {
      "application/vnd.jupyter.widget-view+json": {
       "model_id": "6fff542e349749b785dc4fe710fc2c30",
       "version_major": 2,
       "version_minor": 0
      },
      "text/plain": [
       "Button(description='PieChart', style=ButtonStyle())"
      ]
     },
     "metadata": {},
     "output_type": "display_data"
    },
    {
     "data": {
      "application/vnd.jupyter.widget-view+json": {
       "model_id": "c0af8410c8334884a41770e6fc2feacd",
       "version_major": 2,
       "version_minor": 0
      },
      "text/plain": [
       "Output()"
      ]
     },
     "metadata": {},
     "output_type": "display_data"
    },
    {
     "data": {
      "application/vnd.jupyter.widget-view+json": {
       "model_id": "bd6a554094b249d98769dfd78a7528ab",
       "version_major": 2,
       "version_minor": 0
      },
      "text/plain": [
       "Button(description='Scatter1', style=ButtonStyle())"
      ]
     },
     "metadata": {},
     "output_type": "display_data"
    },
    {
     "data": {
      "application/vnd.jupyter.widget-view+json": {
       "model_id": "d7510f9b9e25449f848d3525ade3e8df",
       "version_major": 2,
       "version_minor": 0
      },
      "text/plain": [
       "Output()"
      ]
     },
     "metadata": {},
     "output_type": "display_data"
    },
    {
     "data": {
      "application/vnd.jupyter.widget-view+json": {
       "model_id": "565c3f619a53495c98684a321e9eb3f8",
       "version_major": 2,
       "version_minor": 0
      },
      "text/plain": [
       "Button(description='PerformanceView', style=ButtonStyle())"
      ]
     },
     "metadata": {},
     "output_type": "display_data"
    },
    {
     "data": {
      "application/vnd.jupyter.widget-view+json": {
       "model_id": "e96329d2150849a19eb503467c7e7cf1",
       "version_major": 2,
       "version_minor": 0
      },
      "text/plain": [
       "Output()"
      ]
     },
     "metadata": {},
     "output_type": "display_data"
    },
    {
     "data": {
      "application/vnd.jupyter.widget-view+json": {
       "model_id": "83195f0d31aa46a1829f041cc8a35f7c",
       "version_major": 2,
       "version_minor": 0
      },
      "text/plain": [
       "Button(description='Boxplot1', style=ButtonStyle())"
      ]
     },
     "metadata": {},
     "output_type": "display_data"
    },
    {
     "data": {
      "application/vnd.jupyter.widget-view+json": {
       "model_id": "31763269ae284ad795e3c9684618cf52",
       "version_major": 2,
       "version_minor": 0
      },
      "text/plain": [
       "Output()"
      ]
     },
     "metadata": {},
     "output_type": "display_data"
    },
    {
     "data": {
      "application/vnd.jupyter.widget-view+json": {
       "model_id": "1093399a821f493a83c4c6f89cfdf878",
       "version_major": 2,
       "version_minor": 0
      },
      "text/plain": [
       "Button(description='Boxplot2', style=ButtonStyle())"
      ]
     },
     "metadata": {},
     "output_type": "display_data"
    },
    {
     "data": {
      "application/vnd.jupyter.widget-view+json": {
       "model_id": "6bc7292c99ae46e39a56fd1b65c7866f",
       "version_major": 2,
       "version_minor": 0
      },
      "text/plain": [
       "Output()"
      ]
     },
     "metadata": {},
     "output_type": "display_data"
    },
    {
     "data": {
      "application/vnd.jupyter.widget-view+json": {
       "model_id": "078ad11a396c49cba1f3b92e3ec508a1",
       "version_major": 2,
       "version_minor": 0
      },
      "text/plain": [
       "Button(description='MultipleTS', style=ButtonStyle())"
      ]
     },
     "metadata": {},
     "output_type": "display_data"
    },
    {
     "data": {
      "application/vnd.jupyter.widget-view+json": {
       "model_id": "ab46752c93ed426e9fdf44f521f89f82",
       "version_major": 2,
       "version_minor": 0
      },
      "text/plain": [
       "Output()"
      ]
     },
     "metadata": {},
     "output_type": "display_data"
    },
    {
     "data": {
      "image/png": "[encoded data removed]",
      "text/plain": [
       "<Figure size 712.1x432 with 7 Axes>"
      ]
     },
     "metadata": {},
     "output_type": "display_data"
    }
   ],
   "source": [
    "#Easymap - Keyword Optimization Performance Dashboard\n",
    "\n",
    "#Version 0.90\n",
    "\n",
    "#o - Imports\n",
    "\n",
    "import ipywidgets as widgets\n",
    "from IPython.display import display\n",
    "import seaborn as sns\n",
    "import matplotlib.pyplot as plt\n",
    "from matplotlib.ticker import AutoMinorLocator\n",
    "import pandas as pd\n",
    "import numpy as np\n",
    "import warnings\n",
    "\n",
    "#p - Warnings\n",
    "warnings.filterwarnings('ignore')\n",
    "\n",
    "#q - Welcoming &\n",
    "\n",
    "print(\"Welcome to the \" + '\\033[1m' + \"KW-Optimization Dashboard\" + \"Vs. 0.8\")\n",
    "\n",
    "mytab1 = \"easytest8csv.csv\"\n",
    "df_a = pd.read_csv(mytab1)\n",
    "\n",
    "a=0\n",
    "ALL = 0\n",
    "\n",
    "#r\n",
    "\n",
    "def unique_sorted_values_plus_ALL(array):\n",
    "    unique = array.unique().tolist()\n",
    "    unique.sort()\n",
    "    unique.insert(0, ALL)\n",
    "    return unique\n",
    "\n",
    "#s \n",
    "\n",
    "output = widgets.Output() \n",
    "plot_output = widgets.Output() \n",
    "test_output = widgets.Output()\n",
    "tab_output = widgets.Output()\n",
    "\n",
    "#t\n",
    "\n",
    "#t1\n",
    "dropdown_year = widgets.Dropdown(options = unique_sorted_values_plus_ALL(df_a.year), value=2021, description='Year:') \n",
    "dropdown_kost = widgets.Dropdown(options = unique_sorted_values_plus_ALL(df_a.Kosten), value=100, description='CostLimit:') \n",
    "dropdown_Klicks = widgets.Dropdown(options = unique_sorted_values_plus_ALL(df_a.Klicks), value=0, description='ClickLimit:') \n",
    "dropdown_Status = widgets.Dropdown(options = unique_sorted_values_plus_ALL(df_a.Status), value=\"Aktiv\", description='Status:') \n",
    "bounded_num = widgets.BoundedFloatText(min=0, max=100000, value=5000, step=1, description='KlickOLimit:') \n",
    "\n",
    "#t2\n",
    "dropdown_x = widgets.Dropdown(options = unique_sorted_values_plus_ALL(df_a.MaxCPC), description='MaxCPC:') \n",
    "dropdown_y = widgets.Dropdown(options = unique_sorted_values_plus_ALL(df_a.ConvRate), description='ConvRate:') \n",
    "dropdown_z = widgets.Dropdown(options = unique_sorted_values_plus_ALL(df_a.Conversions), description='Conversions:') \n",
    "dropdown_a = widgets.Dropdown(options = unique_sorted_values_plus_ALL(df_a.Keyword), description='Keyword:') \n",
    "bounded_b = widgets.BoundedFloatText(min=1, max=100, value=1, step=1, description='LongTail:') \n",
    "\n",
    "#t3\n",
    "dropdown_c = widgets.Dropdown(options = unique_sorted_values_plus_ALL(df_a.Impressionen), description='Impressions:') \n",
    "dropdown_d = widgets.Dropdown(options = unique_sorted_values_plus_ALL(df_a.CTR), description='CTR:') \n",
    "dropdown_e = widgets.Dropdown(options = unique_sorted_values_plus_ALL(df_a.DurchschnCPC), value=0, description='CPCAvrg:') \n",
    "dropdown_f = widgets.Dropdown(options = unique_sorted_values_plus_ALL(df_a.Kampagne), description='Campaign:') \n",
    "bounded_g = widgets.Dropdown(options = unique_sorted_values_plus_ALL(df_a.KostenProConv), description='ConvCosts:') \n",
    "\n",
    "#u\n",
    "\n",
    "def common_filtering(year, Kostenlimit, Klicks, Statusanzeige, num): \n",
    "\t#output.clear_output() \n",
    "\t#plot_output.clear_output() \n",
    "\tif (year == ALL) & (Klicks == ALL): \n",
    "\t\tcommon_filter = df_a[(df_a.Klicks <= num) & (df_a.Kosten <= Kostenlimit) & (df_a.Klicks >= Klicks) & (df_a.Status == Statusanzeige)]  \n",
    "\t\tprint('\\033[1m' + \"Common Filter:\", common_filter, \"Erstes if\", year, Kostenlimit, Klicks, Statusanzeige, num)  \n",
    "\t\tcommon_filter.plot()\n",
    "\telif (year == ALL): \n",
    "\t\tcommon_filter = df_a[(df_a.Klicks <= num) & (df_a.Kosten <= Kostenlimit) & (df_a.Klicks >= Klicks) & (df_a.Status == Statusanzeige)] \n",
    "\t\tprint('\\033[1m' + \"Common Filter:\", common_filter, \"Zweites if\", year, Kostenlimit, Klicks, Statusanzeige, num)  \n",
    "\t\tcommon_filter.plot()\n",
    "\telif (Klicks == ALL): \n",
    "\t\tcommon_filter = df_a[(df_a.year == year) & (df_a.Klicks <= num) & (df_a.Kosten <= Kostenlimit) & (df_a.Klicks >= Klicks) & (df_a.Status == Statusanzeige)] \n",
    "\t\tprint('\\033[1m' + \"Common Filter:\", common_filter, \"Drittes if\", year, Kostenlimit, Klicks, Statusanzeige, num) \n",
    "\t\tcommon_filter.plot()\n",
    "\telse: \n",
    "\t\tcommon_filter = df_a[(df_a.year == year) & (df_a.Klicks == num) & (df_a.Klicks >= Klicks) & (df_a.Kosten <= Kostenlimit) & (df_a.Status == Statusanzeige)] \n",
    "\t\tprint('\\033[1m' + \"Common Filter:\", common_filter, \"Viertes if\", year, Kostenlimit, Klicks, Statusanzeige, num)  \n",
    "\t\tcommon_filter.plot()\n",
    "\twith plot_output: \n",
    "\t\tsns.kdeplot(common_filter['Klicks'], shade=True)\n",
    "\t\tplt.show() \t\n",
    "\t   \n",
    "\twith output: \n",
    "\t\tdisplay(common_filter.style.applymap(lambda x: 'color: red', subset=['year','Klicks','Kosten']))  \n",
    "        \n",
    "#v   \n",
    "    \n",
    "#v1\n",
    "def dropdown_year_eventhandler(change): \n",
    "\tcommon_filtering(change.new, dropdown_kost.value, dropdown_Klicks.value, dropdown_Status.value, bounded_num.value) \n",
    "       \n",
    "def dropdown_kost_eventhandler(change): \n",
    "\tcommon_filtering(dropdown_year.value, change.new, dropdown_Klicks.value, dropdown_Status.value, bounded_num.value) \n",
    "    \n",
    "def dropdown_Klicks_eventhandler(change): \n",
    "\tcommon_filtering(dropdown_year.value, dropdown_kost.value, change.new, dropdown_Status.value, bounded_num.value) \n",
    "\n",
    "def dropdown_Status_eventhandler(change): \n",
    "\tcommon_filtering(dropdown_year.value, dropdown_Klicks.value, dropdown_kost.value, change.new, bounded_num.value) \n",
    "    \n",
    "def bounded_num_eventhandler(change): \n",
    "\tcommon_filtering(dropdown_year.value, dropdown_kost.value, dropdown_Klicks.value, dropdown_Status.value, change.new) \n",
    "    \n",
    "\n",
    "#v2\n",
    "\n",
    "def dropdown_x_eventhandler(change): \n",
    "\tcommon_filtering(change.new, dropdown_y.value, dropdown_z.value, dropdown_a.value, bounded_b.value) \n",
    "       \n",
    "def dropdown_y_eventhandler(change): \n",
    "\tcommon_filtering(dropdown_x.value, change.new, dropdown_z.value, dropdown_a.value, bounded_b.value) \n",
    "    \n",
    "def dropdown_z_eventhandler(change): \n",
    "\tcommon_filtering(dropdown_x.value, dropdown_y.value, change.new, dropdown_a.value, bounded_b.value) \n",
    "\n",
    "def dropdown_a_eventhandler(change): \n",
    "\tcommon_filtering(dropdown_x.value, dropdown_y.value, dropdown_z.value, change.new, bounded_b.value) \n",
    "    \n",
    "def bounded_b_eventhandler(change): \n",
    "\tcommon_filtering(dropdown_x.value, dropdown_y.value, dropdown_z.value, dropdown_a.value, change.new) \n",
    "  \n",
    "   \n",
    "#v3\n",
    "\n",
    "def dropdown_c_eventhandler(change): \n",
    "\tcommon_filtering(change.new, dropdown_d.value, dropdown_e.value, dropdown_f.value, bounded_g.value) \n",
    "       \n",
    "def dropdown_d_eventhandler(change): \n",
    "\tcommon_filtering(dropdown_c.value, change.new, dropdown_e.value, dropdown_f.value, bounded_g.value) \n",
    "    \n",
    "def dropdown_e_eventhandler(change): \n",
    "\tcommon_filtering(dropdown_c.value, dropdown_d.value, change.new, dropdown_f.value, bounded_g.value) \n",
    "\n",
    "def dropdown_f_eventhandler(change): \n",
    "\tcommon_filtering(dropdown_c.value, dropdown_d.value, dropdown_e.value, change.new, bounded_g.value) \n",
    "    \n",
    "def bounded_g_eventhandler(change): \n",
    "\tcommon_filtering(dropdown_c.value, dropdown_d.value, dropdown_e.value, dropdown_f.value, change.new) \n",
    "    \n",
    "#w\n",
    "#w1\n",
    "\n",
    "dropdown_year.observe(dropdown_year_eventhandler, names='value') \n",
    "dropdown_kost.observe(dropdown_kost_eventhandler, names='value') \n",
    "dropdown_Klicks.observe(dropdown_Klicks_eventhandler, names='value') \n",
    "dropdown_Status.observe(dropdown_Status_eventhandler, names='value') \n",
    "bounded_num.observe(bounded_num_eventhandler, names='value') \n",
    "\n",
    "#w2\n",
    "\n",
    "dropdown_x.observe(dropdown_x_eventhandler, names='value') \n",
    "dropdown_y.observe(dropdown_y_eventhandler, names='value') \n",
    "dropdown_z.observe(dropdown_z_eventhandler, names='value') \n",
    "dropdown_a.observe(dropdown_a_eventhandler, names='value') \n",
    "bounded_b.observe(bounded_b_eventhandler, names='value') \n",
    "\n",
    "#w3\n",
    "\n",
    "dropdown_c.observe(dropdown_c_eventhandler, names='value') \n",
    "dropdown_d.observe(dropdown_d_eventhandler, names='value') \n",
    "dropdown_e.observe(dropdown_e_eventhandler, names='value') \n",
    "dropdown_f.observe(dropdown_f_eventhandler, names='value') \n",
    "bounded_g.observe(bounded_g_eventhandler, names='value') \n",
    "\n",
    "#x\n",
    "#x1 \n",
    "\n",
    "item_layout = widgets.Layout(margin='10 10 200px 10')\n",
    "\n",
    "input_widgets = widgets.HBox([dropdown_year, dropdown_kost, dropdown_Klicks, dropdown_Status, bounded_num], layout=item_layout)\n",
    "tab = widgets.Tab([output, plot_output, test_output, tab_output], layout=item_layout)\n",
    "\n",
    "tab = widgets.Tab([output, plot_output, test_output, tab_output])\n",
    "tab.set_title(0, 'Deskriptive Stats')\n",
    "tab.set_title(1, 'Visualisierung')\n",
    "tab.set_title(2, 'Testbed')\n",
    "tab.set_title(3, 'Tables')\n",
    "dashboard = widgets.VBox([input_widgets, tab])\n",
    "\n",
    "#x2\n",
    " \n",
    "\n",
    "item_layout2 = widgets.Layout(margin='10 10 200px 10')\n",
    "\n",
    "input_widgets2 = widgets.HBox([dropdown_x, dropdown_y, dropdown_z, dropdown_a, bounded_b], layout=item_layout2)\n",
    "tab2 = widgets.Tab([output, plot_output, test_output, tab_output], layout=item_layout2)\n",
    "\n",
    "tab2 = widgets.Tab([output, plot_output, test_output, tab_output])\n",
    "tab2.set_title(0, 'Tab2 Stats')\n",
    "tab2.set_title(1, 'Tab2 Visuals')\n",
    "tab2.set_title(2, 'Tab2 Testbed')\n",
    "tab2.set_title(3, 'Tab2 Tables')\n",
    "dashboard2 = widgets.VBox([input_widgets2, tab2])\n",
    "\n",
    "#x3\n",
    "\n",
    "item_layout3 = widgets.Layout(margin='10 10 200px 10')\n",
    "\n",
    "input_widgets3 = widgets.HBox([dropdown_c, dropdown_d, dropdown_e, dropdown_f, bounded_g], layout=item_layout3)\n",
    "tab2 = widgets.Tab([output, plot_output, test_output, tab_output], layout=item_layout)\n",
    "\n",
    "tab3 = widgets.Tab([output, plot_output, test_output, tab_output])\n",
    "tab3.set_title(0, 'Tab3 Stats')\n",
    "tab3.set_title(1, 'Tab3 Visuals')\n",
    "tab3.set_title(2, 'Tab3 Testbed')\n",
    "tab3.set_title(3, 'Tab3 Tables')\n",
    "dashboard3 = widgets.VBox([input_widgets3, tab3])\n",
    "\n",
    "#y\n",
    "\n",
    "print('\\033[1m' + \"Filter year, limits and status:\")\n",
    "display(dashboard)\n",
    "\n",
    "print('\\033[1m' + \"Filter Keyword, MaxCPC and Conversion:\")\n",
    "display(dashboard2)\n",
    "\n",
    "print('\\033[1m' + \"Filter Campaign, CTR and Costs:\")\n",
    "display(dashboard3)\n",
    "\n",
    "\n",
    "#z - experimental\n",
    "\n",
    "#z1\n",
    "\n",
    "#print(\"Die Klicks und Impressionen haben folgenden Verlauf:\")\n",
    "#display(df_a[\"Klicks\"].plot()) \n",
    "#display(df_a[\"Impressionen\"].plot()) \n",
    "#print(\"Das Hauptdataframe df_a hat folgenden Inhalt:\")\n",
    "#df_a.plot()\n",
    "\n",
    "#z1 \n",
    "\n",
    "#z12\n",
    "\n",
    "def on_ScatterViewbutton_clicked(b):\n",
    "    with output:\n",
    "        print(\"Button clicked.\")\n",
    "        JahreVsClicks(df_a)\n",
    "        \n",
    "def JahreVsClicks(myDf):\n",
    "    fig = plt.figure()\n",
    "    fig.subplots_adjust(top=0.8)\n",
    "    ax1 = fig.add_subplot(211)\n",
    "    ax1.set_ylabel('Klicks')\n",
    "    ax1.set_title('Jahr')\n",
    "    t = myDf[\"year\"]\n",
    "    s = myDf[\"Klicks\"]\n",
    "    line, = ax1.plot(t, s, color='blue', lw=2)\n",
    "    # Fixing random state for reproducibility\n",
    "    np.random.seed(19680801)\n",
    "    ax2 = fig.add_axes([0.15, 0.1, 0.7, 0.3])\n",
    "    n, bins, patches = ax2.hist(myDf[\"year\"], 50,\n",
    "                            facecolor='yellow', edgecolor='yellow')\n",
    "    ax2.set_xlabel('Klicks')\n",
    "    plt.show()\n",
    "    \n",
    "    \n",
    "button = widgets.Button(description=\"ScatterView\")\n",
    "output = widgets.Output()\n",
    "display(button, output)\n",
    "button.on_click(on_ScatterViewbutton_clicked)\n",
    "\n",
    "#z13\n",
    "\n",
    "def on_PairPlotbutton_clicked(b):\n",
    "    with output:\n",
    "        print(\"Button clicked. Pairplot is being created...\")\n",
    "        myPairPlot()\n",
    "        \n",
    "def myPairPlot():\n",
    "    sns.set_theme(style=\"ticks\")\n",
    "    sns.pairplot(df_a, hue=\"Klicks\")\n",
    "\n",
    "button = widgets.Button(description=\"PairPlot\")\n",
    "output = widgets.Output()\n",
    "display(button, output)\n",
    "button.on_click(on_PairPlotbutton_clicked)\n",
    "\n",
    "\n",
    "#z14\n",
    "\n",
    "def on_ViolinPlot1button_clicked(b):\n",
    "    with output:\n",
    "        print(\"Button clicked. Violinplot1 is being created...\")\n",
    "        myViolinPlot1()\n",
    "        \n",
    "def myViolinPlot1():\n",
    "    fig = plt.figure(figsize=(18,6))\n",
    "    LOOKBACK_YEARS = 3\n",
    "    REGISTRATION_YEAR = 2017\n",
    "    filtered_years = df_a\n",
    "    ax1 = sns.violinplot(x='year', y=\"Klicks\", data=filtered_years, hue='Kampagne')\n",
    "    ax1.minorticks_on()\n",
    "    ax1.xaxis.set_minor_locator(AutoMinorLocator(2))\n",
    "    ax1.grid(which='minor', axis='x', linewidth=1)\n",
    "\n",
    "button = widgets.Button(description=\"ViolinPlot1\")\n",
    "output = widgets.Output()\n",
    "display(button, output)\n",
    "button.on_click(on_ViolinPlot1button_clicked)\n",
    "\n",
    "\n",
    "#z15\n",
    "\n",
    "def on_ViolinPlot2button_clicked(b):\n",
    "    with output:\n",
    "        print(\"Button clicked. Violinplot2 is being created...\")\n",
    "        myViolinPlot2()\n",
    "        \n",
    "def myViolinPlot2():\n",
    "    fig = plt.figure(figsize=(18,6))\n",
    "    LOOKBACK_YEARS = 3\n",
    "    REGISTRATION_YEAR = 2017\n",
    "    filtered_years = df_a\n",
    "    ax1 = sns.violinplot(x='year', y=\"Klicks\", data=filtered_years, hue='Keyword-Status')\n",
    "    ax1.minorticks_on()\n",
    "    ax1.xaxis.set_minor_locator(AutoMinorLocator(2))\n",
    "    ax1.grid(which='minor', axis='x', linewidth=1)\n",
    "\n",
    "button = widgets.Button(description=\"ViolinPlot2\")\n",
    "output = widgets.Output()\n",
    "display(button, output)\n",
    "button.on_click(on_ViolinPlot2button_clicked)\n",
    "\n",
    "\n",
    "#z16\n",
    "\n",
    "def on_ViolinPlot3button_clicked(b):\n",
    "    with output:\n",
    "        print(\"Button clicked. Violinplot3 is being created...\")\n",
    "        myViolinPlot3()\n",
    "        \n",
    "def myViolinPlot3():\n",
    "    fig = plt.figure(figsize=(18,6))\n",
    "    LOOKBACK_YEARS = 3\n",
    "    REGISTRATION_YEAR = 2017\n",
    "    filtered_years = df_a\n",
    "    ax1 = sns.violinplot(x='year', y=\"Klicks\", data=filtered_years, hue='Status')\n",
    "    ax1.minorticks_on()\n",
    "    ax1.xaxis.set_minor_locator(AutoMinorLocator(2))\n",
    "    ax1.grid(which='minor', axis='x', linewidth=1)\n",
    "\n",
    "button = widgets.Button(description=\"ViolinPlot3\")\n",
    "output = widgets.Output()\n",
    "display(button, output)\n",
    "button.on_click(on_ViolinPlot3button_clicked)\n",
    "\n",
    "\n",
    "#z17\n",
    "\n",
    "def on_myPieChartbutton_clicked(b):\n",
    "    with output:\n",
    "        print(\"Button clicked. Pie Chart is being created...\")\n",
    "        myPieChart()\n",
    "        \n",
    "def myPieChart():\n",
    "    plt.pie(df_a[\"Kosten\"], labels=df_a[\"year\"])\n",
    "    plt.show()\n",
    "    \n",
    "button = widgets.Button(description=\"PieChart\")\n",
    "output = widgets.Output()\n",
    "display(button, output)\n",
    "button.on_click(on_myPieChartbutton_clicked)\n",
    "\n",
    "\n",
    "#z18\n",
    "def on_myScatter1button_clicked(b):\n",
    "    with output:\n",
    "        print(\"Button clicked. Scatter1 is being created...\")\n",
    "        myScatter1()\n",
    "        \n",
    "def myScatter1():\n",
    "    plt.scatter(df_a['year'], df_a['Klicks'])\n",
    "\n",
    "button = widgets.Button(description=\"Scatter1\")\n",
    "output = widgets.Output()\n",
    "display(button, output)\n",
    "button.on_click(on_myScatter1button_clicked)\n",
    "\n",
    "\n",
    "#z19\n",
    "\n",
    "def on_myPerformanceViewbutton_clicked(b):\n",
    "    with output:\n",
    "        print(\"Button clicked. Perfromance View is being created...\")\n",
    "        myPerformanceView()\n",
    "        \n",
    "def myPerformanceView():\n",
    "    # Fixing random state for reproducibility\n",
    "    plt.rcdefaults()\n",
    "    fig, ax = plt.subplots()\n",
    "    # Example data\n",
    "    people = (df_a[\"Keyword-Status\"])\n",
    "    y_pos = df_a[\"Kosten\"]\n",
    "    performance = df_a[\"Klicks\"]\n",
    "    error = df_a[\"year\"]\n",
    "    ax.barh(y_pos, performance, xerr=error, align='center')\n",
    "    ax.set_yticks(y_pos)\n",
    "    ax.set_yticklabels(people)\n",
    "    ax.invert_yaxis()  # labels read top-to-bottom\n",
    "    ax.set_xlabel('Performance View')\n",
    "    ax.set_title('Kosten vs. Clicks')\n",
    "    plt.show()\n",
    "\n",
    "button = widgets.Button(description=\"PerformanceView\")\n",
    "output = widgets.Output()\n",
    "display(button, output)\n",
    "button.on_click(on_myPerformanceViewbutton_clicked)\n",
    "\n",
    "#z20\n",
    "\n",
    "def on_myBoxplot1button_clicked(b):\n",
    "    with output:\n",
    "        print(\"Button clicked. Boxplot1 is being created...\")\n",
    "        myBoxplot1()\n",
    "        \n",
    "def myBoxplot1():\n",
    "    fig = plt.figure(figsize =(10, 7))\n",
    "    plt.boxplot(df_a[\"Klicks\"])\n",
    "    plt.show() \n",
    "\n",
    "button = widgets.Button(description=\"Boxplot1\")\n",
    "output = widgets.Output()\n",
    "display(button, output)\n",
    "button.on_click(on_myBoxplot1button_clicked)\n",
    "\n",
    "#z21\n",
    "\n",
    "def on_myBoxplot2button_clicked(b):\n",
    "    with output:\n",
    "        print(\"Button clicked. Boxplot2 is being created...\")\n",
    "        myBoxplot1()\n",
    "        \n",
    "def myBoxplot2():\n",
    "    fig = plt.figure(figsize =(10, 7))\n",
    "    plt.boxplot(df_a[\"Kosten\"])\n",
    "    plt.show() \n",
    "\n",
    "button = widgets.Button(description=\"Boxplot2\")\n",
    "output = widgets.Output()\n",
    "display(button, output)\n",
    "button.on_click(on_myBoxplot2button_clicked)\n",
    "\n",
    "#z22\n",
    "\n",
    "def on_myMultipleTSbutton_clicked(b):\n",
    "    with output:\n",
    "        print(\"Button clicked. MultipleTS is being created...\")\n",
    "        myMultipleTS()\n",
    "        \n",
    "def myMultipleTS():\n",
    "    sns.set_theme(style=\"dark\")\n",
    "    flights = df_a\n",
    "    # Plot each year's time series in its own facet\n",
    "    g = sns.relplot(\n",
    "        data=flights,\n",
    "        x=\"Klicks\", y=\"Kosten\", col=\"year\", hue=\"year\",\n",
    "        kind=\"line\", palette=\"crest\", linewidth=4, zorder=5,\n",
    "        col_wrap=3, height=2, aspect=1.5, legend=True,\n",
    "    )\n",
    "    # Iterate over each subplot to customize further\n",
    "    for year, ax in g.axes_dict.items():\n",
    "        # Add the title as an annotation within the plot\n",
    "        ax.text(.8, .85, year, transform=ax.transAxes, fontweight=\"bold\")\n",
    "        # Plot every year's time series in the background\n",
    "        sns.lineplot(\n",
    "            data=flights, x=\"year\", y=\"Klicks\", units=\"year\",\n",
    "            estimator=None, color=\".7\", linewidth=1, ax=ax,\n",
    "        )\n",
    "    # Reduce the frequency of the x axis ticks\n",
    "    ax.set_xticks(ax.get_xticks()[::2])\n",
    "    # Tweak the supporting aspects of the plot\n",
    "    g.set_titles(\"\")\n",
    "    g.set_axis_labels(\"\", \"Klicks\")\n",
    "    g.tight_layout()\n",
    "\n",
    "button = widgets.Button(description=\"MultipleTS\")\n",
    "output = widgets.Output()\n",
    "display(button, output)\n",
    "button.on_click(on_myMultipleTSbutton_clicked)\n",
    "#end    \n"
   ]
  },
  {
   "cell_type": "code",
   "execution_count": 5,
   "id": "f885d653",
   "metadata": {},
   "outputs": [],
   "source": []
  },
  {
   "cell_type": "code",
   "execution_count": null,
   "id": "61c436a7",
   "metadata": {},
   "outputs": [],
   "source": []
  },
  {
   "cell_type": "code",
   "execution_count": null,
   "id": "b6345228",
   "metadata": {},
   "outputs": [],
   "source": []
  }
 ],
 "metadata": {
  "kernelspec": {
   "display_name": "Python 3",
   "language": "python",
   "name": "python3"
  },
  "language_info": {
   "codemirror_mode": {
    "name": "ipython",
    "version": 3
   },
   "file_extension": ".py",
   "mimetype": "text/x-python",
   "name": "python",
   "nbconvert_exporter": "python",
   "pygments_lexer": "ipython3",
   "version": "3.8.8"
  },
  "widgets": {
   "application/vnd.jupyter.widget-state+json": {
    "state": {},
    "version_major": 2,
    "version_minor": 0
   }
  }
 },
 "nbformat": 4,
 "nbformat_minor": 5
}
